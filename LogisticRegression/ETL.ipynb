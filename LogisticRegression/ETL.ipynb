{
 "cells": [
  {
   "cell_type": "code",
   "execution_count": 11,
   "metadata": {},
   "outputs": [],
   "source": [
    "import json\n",
    "import os\n",
    "\n",
    "f = open(\"mushroom.txt\", 'r')\n",
    "#os.makedirs('train_data.json')\n",
    "f1 = open('train_data.json', 'w')\n",
    "f2 = open('labels.json', 'w')\n",
    "str_data = f.readlines()\n",
    "data = []\n",
    "labels =[]\n",
    "maps = {}\n",
    "for line in str_data:\n",
    "    sigle_data = line.replace(\"\\n\", '').split(',')\n",
    "    if sigle_data[0] == 'p':\n",
    "        labels.append(0)\n",
    "    else:\n",
    "        labels.append(1)\n",
    "    i = 1\n",
    "    while i < len(sigle_data):\n",
    "        if i not in maps.keys():\n",
    "            maps[i] = {}\n",
    "        if sigle_data[i] in maps[i].keys():\n",
    "            sigle_data[i] = maps[i][sigle_data[i]]\n",
    "        else:\n",
    "            maps[i][sigle_data[i]] = len(maps[i].keys()) + 1\n",
    "            sigle_data[i] = maps[i][sigle_data[i]]\n",
    "        i += 1\n",
    "    data.append(sigle_data[1:])\n",
    "json.dump(data, f1)\n",
    "json.dump(labels,f2)"
   ]
  },
  {
   "cell_type": "code",
   "execution_count": null,
   "metadata": {},
   "outputs": [],
   "source": []
  }
 ],
 "metadata": {
  "kernelspec": {
   "display_name": "Python 3",
   "language": "python",
   "name": "python3"
  },
  "language_info": {
   "codemirror_mode": {
    "name": "ipython",
    "version": 3
   },
   "file_extension": ".py",
   "mimetype": "text/x-python",
   "name": "python",
   "nbconvert_exporter": "python",
   "pygments_lexer": "ipython3",
   "version": "3.6.7rc2"
  }
 },
 "nbformat": 4,
 "nbformat_minor": 2
}
