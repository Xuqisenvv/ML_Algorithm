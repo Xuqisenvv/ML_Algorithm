{
 "cells": [
  {
   "cell_type": "code",
   "execution_count": 211,
   "metadata": {
    "scrolled": false
   },
   "outputs": [
    {
     "name": "stderr",
     "output_type": "stream",
     "text": [
      "c:\\python3.6\\lib\\site-packages\\ipykernel_launcher.py:42: RuntimeWarning: divide by zero encountered in log\n",
      "c:\\python3.6\\lib\\site-packages\\ipykernel_launcher.py:42: RuntimeWarning: invalid value encountered in multiply\n"
     ]
    },
    {
     "name": "stdout",
     "output_type": "stream",
     "text": [
      "Accuracy is: 0.9680065627563577\n"
     ]
    },
    {
     "data": {
      "image/png": "[encoded data removed]",
      "text/plain": [
       "<Figure size 432x288 with 1 Axes>"
      ]
     },
     "metadata": {
      "needs_background": "light"
     },
     "output_type": "display_data"
    }
   ],
   "source": [
    "import numpy as np\n",
    "import json\n",
    "import matplotlib.pyplot as plt\n",
    "from sklearn import linear_model\n",
    "\n",
    "\n",
    "f1 = open('train_data.json', 'r')\n",
    "f2 = open('labels.json', 'r')\n",
    "X = json.load(f1)\n",
    "Y = json.load(f2)\n",
    "split_index = int(np.around(len(X) * 0.85))\n",
    "\n",
    "X_train = X[0 : split_index]\n",
    "X_test = X[split_index:]\n",
    "Y_train = Y[0 : split_index]\n",
    "Y_test = Y[split_index:]\n",
    "\n",
    "\n",
    "def LR_train(X_train, Y_train, N, step_size, minibatch_size, iterations):\n",
    "    '''\n",
    "       X_train : data for train\n",
    "       Y_train : labels for train\n",
    "       N: number of the dimension of X\n",
    "       minibatch_size : size of minibatch \n",
    "       iterations; train steps\n",
    "    '''\n",
    "    \n",
    "    # initialize weight vector\n",
    "    weights = np.ones((N+1, 1))\n",
    "    # record loss：- likelihood\n",
    "    hist_loss = []\n",
    "    \n",
    "    for step in range(iterations):\n",
    "        # get minibatch\n",
    "        X_train_mini = np.array(X_train[step : step + minibatch_size])\n",
    "        X_train_mini = np.c_[X_train_mini, np.ones(minibatch_size)]\n",
    "        Y_train_mini = np.array(Y_train[step: step + minibatch_size]).reshape((-1,1))\n",
    "        \n",
    "        # sigmoid\n",
    "        p = 1 / (1 + np.exp(- np.dot(X_train_mini, weights)))\n",
    "        # record loss\n",
    "        loss =  - np.sum(Y_train_mini * np.log(p) + (1 - Y_train_mini) * np.log(1 - p))\n",
    "        hist_loss.append(loss)\n",
    "        \n",
    "        # calculate gradient\n",
    "        Xt = np.transpose(X_train_mini)\n",
    "        gradient =  (np.dot(Xt, (Y_train_mini - p)))/ minibatch_size\n",
    "        weights = weights + step_size * gradient\n",
    "    \n",
    "    # figure loss\n",
    "    figure = plt.figure()\n",
    "    plt.plot([k for k in range(len(hist_loss))], hist_loss)\n",
    "    plt.xlabel(\"iterations\")\n",
    "    plt.ylabel(\"loss\")\n",
    "        \n",
    "    return weights\n",
    "\n",
    "def LR_predict(Test_X, Test_Y, weights):\n",
    "    Test_X = np.c_[np.array(Test_X), np.ones(len(Test_X))]\n",
    "    p = 1 / (1 + np.exp(- np.dot(Test_X, weights)))\n",
    "    y = []\n",
    "    p = list(p)\n",
    "    for i in p:\n",
    "        if i[0] < 0.5:\n",
    "            y.append(0)\n",
    "        if i[0] > 0.5:\n",
    "            y.append(1)\n",
    "    count = 0\n",
    "    for i in range(len(y)):\n",
    "        if y[i] == Test_Y[i]:\n",
    "            count += 1\n",
    "    acc = count/ len(Test_Y)\n",
    "    return acc\n",
    "    \n",
    "\n",
    "weights = LR_train(X_train, Y_train, 22, 0.2, 100, len(X_train) - 100)\n",
    "acc = LR_predict(X_test, Y_test, weights)\n",
    "\n",
    "print(\"Accuracy is: {}\".format(acc))"
   ]
  },
  {
   "cell_type": "code",
   "execution_count": null,
   "metadata": {},
   "outputs": [],
   "source": []
  },
  {
   "cell_type": "code",
   "execution_count": null,
   "metadata": {},
   "outputs": [],
   "source": []
  }
 ],
 "metadata": {
  "kernelspec": {
   "display_name": "Python 3",
   "language": "python",
   "name": "python3"
  },
  "language_info": {
   "codemirror_mode": {
    "name": "ipython",
    "version": 3
   },
   "file_extension": ".py",
   "mimetype": "text/x-python",
   "name": "python",
   "nbconvert_exporter": "python",
   "pygments_lexer": "ipython3",
   "version": "3.6.7rc2"
  }
 },
 "nbformat": 4,
 "nbformat_minor": 2
}
